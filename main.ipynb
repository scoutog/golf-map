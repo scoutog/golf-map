{
 "cells": [
  {
   "cell_type": "code",
   "execution_count": null,
   "metadata": {
    "application/vnd.databricks.v1+cell": {
     "cellMetadata": {
      "byteLimit": 2048000,
      "rowLimit": 10000
     },
     "inputWidgets": {},
     "nuid": "1c39b72f-9f66-44f2-91ba-a0861c26d7d1",
     "showTitle": false,
     "tableResultSettingsMap": {},
     "title": ""
    }
   },
   "outputs": [],
   "source": [
    "%pip install -qqqq folium openpyxl"
   ]
  },
  {
   "cell_type": "code",
   "execution_count": null,
   "metadata": {
    "application/vnd.databricks.v1+cell": {
     "cellMetadata": {
      "byteLimit": 2048000,
      "rowLimit": 10000
     },
     "inputWidgets": {},
     "nuid": "f56ced48-75cb-43a5-a59c-608bd9061865",
     "showTitle": false,
     "tableResultSettingsMap": {},
     "title": ""
    }
   },
   "outputs": [],
   "source": [
    "import pandas as pd\n",
    "import folium\n",
    "from folium.plugins import MarkerCluster\n",
    "import plotly.express as px\n",
    "import plotly.io as pio\n",
    "\n",
    "# Load the golf course data\n",
    "df = pd.read_csv('data/Golf-Courses-USA.csv')\n",
    "\n",
    "df[['name', 'citystate']] = df['name'].str.split('-', n=1, expand=True)\n",
    "df[['description', 'street', 'city', 'statezip', 'phone']] = df['description'].str.split(',', n=4, expand=True)\n",
    "df[['city', 'state']] = df['citystate'].str.split(',', n=1, expand=True)\n",
    "df['zip'] = df['statezip'].str.extract(r'(\\d{5}(?:-\\d{4})?)')\n",
    "df[['type', 'num_holes']] = df['description'].str.extract(r'\\((.*?)\\)\\s+\\((\\d+)\\s+Holes\\)')\n",
    "\n",
    "df['num_holes'] = df['num_holes'].fillna(9).astype(int)\n",
    "df['state'] = df['state'].str.strip()\n",
    "\n",
    "df = df[['longitude','latitude','name','type','num_holes','street','city','state','zip','phone']].reset_index(drop=True)\n",
    "\n",
    "# Create a map centered on the USA\n",
    "# The location is an approximate center of the contiguous United States.\n",
    "map_center = [39.8283, -98.5795]\n",
    "usa_map = folium.Map(location=map_center, zoom_start=4)\n",
    "\n",
    "# Add a marker for each golf course\n",
    "for index, row in df.iterrows():\n",
    "    # Create a popup with the name of the golf course\n",
    "    popup_text = f\"<strong>{row['name']}</strong>\"\n",
    "\n",
    "    folium.Marker(\n",
    "        location=[row['latitude'], row['longitude']],\n",
    "        # popup=popup_text,\n",
    "        popup=None,\n",
    "        icon=folium.Icon(color='green', prefix = 'fa', icon='golf-ball-tee')\n",
    "    ).add_to(usa_map)\n",
    "\n",
    "# Save the map to an HTML file\n",
    "output_file = 'output/golf_courses_map.html'\n",
    "usa_map.save(output_file)\n",
    "\n",
    "print(f\"Interactive map saved to {output_file}\")"
   ]
  },
  {
   "cell_type": "code",
   "execution_count": null,
   "metadata": {},
   "outputs": [],
   "source": [
    "# Create map and add MarkerCluster\n",
    "usa_map = folium.Map(location=map_center, zoom_start=4)\n",
    "marker_cluster = MarkerCluster().add_to(usa_map)\n",
    "\n",
    "# Add markers to the cluster\n",
    "for _, row in df.iterrows():\n",
    "    popup_text = f\"<strong>{row['name']}</strong>\"\n",
    "    folium.Marker(\n",
    "        location=[row['latitude'], row['longitude']],\n",
    "        popup=popup_text,\n",
    "        icon=folium.Icon(color='green', prefix='fa', icon='golf-ball-tee')\n",
    "    ).add_to(marker_cluster)\n",
    "\n",
    "# Save the map to an HTML file\n",
    "output_file = 'output/golf_courses_map.html'\n",
    "usa_map.save(output_file)\n",
    "\n",
    "print(f\"Interactive map saved to {output_file}\")"
   ]
  },
  {
   "cell_type": "code",
   "execution_count": null,
   "metadata": {
    "application/vnd.databricks.v1+cell": {
     "cellMetadata": {
      "byteLimit": 2048000,
      "rowLimit": 10000
     },
     "inputWidgets": {},
     "nuid": "e3c47d6e-c9b0-4644-ab56-00799eeedfec",
     "showTitle": false,
     "tableResultSettingsMap": {},
     "title": ""
    }
   },
   "outputs": [],
   "source": [
    "# The GCSAA and USGA surveys are industry-standard references, capturing real data from hundreds of U.S. golf facilities over multiple years (2005, 2013, 2020) \n",
    "gallons_9_hole = 12600000 # per year\n",
    "gallons_18_hole = 21600000 # per year\n",
    "\n",
    "# https://www.epa.gov/watersense/statistics-and-facts#:~:text=Each%20American%20uses%20an%20average,the%20United%20States%20in%202015).\n",
    "gallons_per_person = 82 * 365"
   ]
  },
  {
   "cell_type": "code",
   "execution_count": null,
   "metadata": {
    "application/vnd.databricks.v1+cell": {
     "cellMetadata": {
      "byteLimit": 2048000,
      "rowLimit": 10000
     },
     "inputWidgets": {},
     "nuid": "b6a00f5e-fa8c-4af5-8657-0d76c8fae3f8",
     "showTitle": false,
     "tableResultSettingsMap": {},
     "title": ""
    },
    "scrolled": true
   },
   "outputs": [],
   "source": [
    "water_usage = pd.DataFrame()\n",
    "water_usage['num_holes'] = sorted(df['num_holes'].unique())\n",
    "\n",
    "def compute_gallons(num):\n",
    "    if num == 9:\n",
    "        return gallons_9_hole\n",
    "    elif num % 18 == 0:\n",
    "        return gallons_18_hole * (num // 18)\n",
    "    elif num % 9 == 0:\n",
    "        num_18 = num // 18\n",
    "        remainder = num % 18\n",
    "        if remainder == 9:\n",
    "            return gallons_18_hole * num_18 + gallons_9_hole\n",
    "    return gallons_18_hole\n",
    "\n",
    "water_usage['gallons_per_year'] = water_usage['num_holes'].apply(compute_gallons)\n",
    "water_usage\n"
   ]
  },
  {
   "cell_type": "code",
   "execution_count": null,
   "metadata": {
    "application/vnd.databricks.v1+cell": {
     "cellMetadata": {
      "byteLimit": 2048000,
      "rowLimit": 10000
     },
     "inputWidgets": {},
     "nuid": "55a21019-8823-4b13-8d4c-ef6bca995b75",
     "showTitle": false,
     "tableResultSettingsMap": {},
     "title": ""
    }
   },
   "outputs": [],
   "source": [
    "\n",
    "state_pop = pd.read_excel(\"data/NST-EST2024-POP.xlsx\", skiprows=3)\n",
    "state_pop.rename(columns={'Unnamed: 0': 'state_long',\n",
    "                       2024 : 'population'}, inplace=True)\n",
    "state_pop['state_long'] = state_pop['state_long'].str.replace('.', '', regex=False).str.strip()\n",
    "\n",
    "state_pop = state_pop[['state_long','population']].dropna()\n",
    "\n",
    "# US state name to abbreviation mapping\n",
    "us_state_abbrev = {\n",
    "    'Alabama': 'AL', 'Alaska': 'AK', 'Arizona': 'AZ', 'Arkansas': 'AR',\n",
    "    'California': 'CA', 'Colorado': 'CO', 'Connecticut': 'CT', 'Delaware': 'DE',\n",
    "    'District of Columbia': 'DC', 'Florida': 'FL', 'Georgia': 'GA', 'Hawaii': 'HI',\n",
    "    'Idaho': 'ID', 'Illinois': 'IL', 'Indiana': 'IN', 'Iowa': 'IA',\n",
    "    'Kansas': 'KS', 'Kentucky': 'KY', 'Louisiana': 'LA', 'Maine': 'ME',\n",
    "    'Maryland': 'MD', 'Massachusetts': 'MA', 'Michigan': 'MI', 'Minnesota': 'MN',\n",
    "    'Mississippi': 'MS', 'Missouri': 'MO', 'Montana': 'MT', 'Nebraska': 'NE',\n",
    "    'Nevada': 'NV', 'New Hampshire': 'NH', 'New Jersey': 'NJ', 'New Mexico': 'NM',\n",
    "    'New York': 'NY', 'North Carolina': 'NC', 'North Dakota': 'ND', 'Ohio': 'OH',\n",
    "    'Oklahoma': 'OK', 'Oregon': 'OR', 'Pennsylvania': 'PA', 'Rhode Island': 'RI',\n",
    "    'South Carolina': 'SC', 'South Dakota': 'SD', 'Tennessee': 'TN', 'Texas': 'TX',\n",
    "    'Utah': 'UT', 'Vermont': 'VT', 'Virginia': 'VA', 'Washington': 'WA',\n",
    "    'West Virginia': 'WV', 'Wisconsin': 'WI', 'Wyoming': 'WY',\n",
    "    'Puerto Rico': 'PR'\n",
    "}\n",
    "\n",
    "# Add a new column with the abbreviation (NaN if not found)\n",
    "state_pop['state'] = state_pop['state_long'].map(us_state_abbrev)"
   ]
  },
  {
   "cell_type": "code",
   "execution_count": null,
   "metadata": {
    "application/vnd.databricks.v1+cell": {
     "cellMetadata": {
      "byteLimit": 2048000,
      "rowLimit": 10000
     },
     "inputWidgets": {},
     "nuid": "6105e012-aa48-466a-bed8-dcad65c1d1cc",
     "showTitle": false,
     "tableResultSettingsMap": {},
     "title": ""
    },
    "scrolled": true
   },
   "outputs": [],
   "source": [
    "summary = df.merge(water_usage, on='num_holes', how='left')\n",
    "summary = summary.groupby(['state']).agg({'gallons_per_year': 'sum'}).reset_index()\n",
    "summary = summary.merge(state_pop, on = 'state', how = 'left')\n",
    "summary['gallons_per_person'] = gallons_per_person * summary['population']\n",
    "summary['golfwater_div_pop'] = (summary['gallons_per_year'] / summary['population']).astype(int)\n",
    "summary['population'] = summary['population'].astype(int)\n",
    "summary"
   ]
  },
  {
   "cell_type": "code",
   "execution_count": null,
   "metadata": {
    "application/vnd.databricks.v1+cell": {
     "cellMetadata": {
      "byteLimit": 2048000,
      "rowLimit": 10000
     },
     "inputWidgets": {},
     "nuid": "bd41bc3d-021a-4a07-b401-a42ae77998c4",
     "showTitle": false,
     "tableResultSettingsMap": {},
     "title": ""
    }
   },
   "outputs": [],
   "source": [
    "fig = px.choropleth(\n",
    "    summary,\n",
    "    locations='state',\n",
    "    locationmode='USA-states',\n",
    "    color='golfwater_div_pop',\n",
    "    color_continuous_scale=[(0, 'white'), (1, 'darkblue')],\n",
    "    scope='usa',\n",
    "    labels={'golfwater_div_pop': 'Golf Water Use per Person (gal/year)'},\n",
    "    title='Golf Course Water Use per Person by State'\n",
    ")\n",
    "fig.update_layout(geo=dict(bgcolor='rgba(0,0,0,0)'))\n",
    "\n",
    "pio.write_html(fig, file='output/heatmap-golfwater-perperson.html')"
   ]
  },
  {
   "cell_type": "code",
   "execution_count": null,
   "metadata": {},
   "outputs": [],
   "source": []
  }
 ],
 "metadata": {
  "application/vnd.databricks.v1+notebook": {
   "computePreferences": null,
   "dashboards": [],
   "environmentMetadata": {
    "base_environment": "",
    "environment_version": "2"
   },
   "inputWidgetPreferences": null,
   "language": "python",
   "notebookMetadata": {
    "pythonIndentUnit": 4
   },
   "notebookName": "main",
   "widgets": {}
  },
  "kernelspec": {
   "display_name": "Python 3 (ipykernel)",
   "language": "python",
   "name": "python3"
  },
  "language_info": {
   "codemirror_mode": {
    "name": "ipython",
    "version": 3
   },
   "file_extension": ".py",
   "mimetype": "text/x-python",
   "name": "python",
   "nbconvert_exporter": "python",
   "pygments_lexer": "ipython3",
   "version": "3.11.7"
  }
 },
 "nbformat": 4,
 "nbformat_minor": 4
}
